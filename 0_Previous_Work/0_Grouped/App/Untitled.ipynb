{
 "cells": [
  {
   "cell_type": "code",
   "execution_count": 2,
   "id": "practical-tunisia",
   "metadata": {},
   "outputs": [],
   "source": [
    "import numpy as np\n",
    "import pandas as pd"
   ]
  },
  {
   "cell_type": "code",
   "execution_count": 3,
   "id": "unique-victor",
   "metadata": {},
   "outputs": [
    {
     "data": {
      "text/html": [
       "<div>\n",
       "<style scoped>\n",
       "    .dataframe tbody tr th:only-of-type {\n",
       "        vertical-align: middle;\n",
       "    }\n",
       "\n",
       "    .dataframe tbody tr th {\n",
       "        vertical-align: top;\n",
       "    }\n",
       "\n",
       "    .dataframe thead th {\n",
       "        text-align: right;\n",
       "    }\n",
       "</style>\n",
       "<table border=\"1\" class=\"dataframe\">\n",
       "  <thead>\n",
       "    <tr style=\"text-align: right;\">\n",
       "      <th></th>\n",
       "      <th>GDS Vd=10V [dark]</th>\n",
       "      <th>Vgate</th>\n",
       "      <th>ABSID</th>\n",
       "      <th>GDS Vd=10V [1.5w]</th>\n",
       "      <th>Vgate.1</th>\n",
       "      <th>ABSID.1</th>\n",
       "      <th>GDS Vd=10V [2.5w]</th>\n",
       "      <th>Vgate.2</th>\n",
       "      <th>ABSID.2</th>\n",
       "      <th>GDS Vd=10V [4w]</th>\n",
       "      <th>Vgate.3</th>\n",
       "      <th>ABSID.3</th>\n",
       "    </tr>\n",
       "  </thead>\n",
       "  <tbody>\n",
       "    <tr>\n",
       "      <th>0</th>\n",
       "      <td>NaN</td>\n",
       "      <td>-25.0</td>\n",
       "      <td>2.049800e-11</td>\n",
       "      <td>NaN</td>\n",
       "      <td>-25.0</td>\n",
       "      <td>2.063900e-11</td>\n",
       "      <td>NaN</td>\n",
       "      <td>-25.0</td>\n",
       "      <td>2.248300e-11</td>\n",
       "      <td>NaN</td>\n",
       "      <td>-25.0</td>\n",
       "      <td>2.350100e-11</td>\n",
       "    </tr>\n",
       "    <tr>\n",
       "      <th>1</th>\n",
       "      <td>NaN</td>\n",
       "      <td>-24.8</td>\n",
       "      <td>1.216900e-11</td>\n",
       "      <td>NaN</td>\n",
       "      <td>-24.8</td>\n",
       "      <td>1.295900e-11</td>\n",
       "      <td>NaN</td>\n",
       "      <td>-24.8</td>\n",
       "      <td>1.429800e-11</td>\n",
       "      <td>NaN</td>\n",
       "      <td>-24.8</td>\n",
       "      <td>1.522700e-11</td>\n",
       "    </tr>\n",
       "    <tr>\n",
       "      <th>2</th>\n",
       "      <td>NaN</td>\n",
       "      <td>-24.6</td>\n",
       "      <td>1.077200e-11</td>\n",
       "      <td>NaN</td>\n",
       "      <td>-24.6</td>\n",
       "      <td>1.155500e-11</td>\n",
       "      <td>NaN</td>\n",
       "      <td>-24.6</td>\n",
       "      <td>1.274500e-11</td>\n",
       "      <td>NaN</td>\n",
       "      <td>-24.6</td>\n",
       "      <td>1.397500e-11</td>\n",
       "    </tr>\n",
       "    <tr>\n",
       "      <th>3</th>\n",
       "      <td>NaN</td>\n",
       "      <td>-24.4</td>\n",
       "      <td>9.939000e-12</td>\n",
       "      <td>NaN</td>\n",
       "      <td>-24.4</td>\n",
       "      <td>1.088300e-11</td>\n",
       "      <td>NaN</td>\n",
       "      <td>-24.4</td>\n",
       "      <td>1.216600e-11</td>\n",
       "      <td>NaN</td>\n",
       "      <td>-24.4</td>\n",
       "      <td>1.328200e-11</td>\n",
       "    </tr>\n",
       "    <tr>\n",
       "      <th>4</th>\n",
       "      <td>NaN</td>\n",
       "      <td>-24.2</td>\n",
       "      <td>9.705000e-12</td>\n",
       "      <td>NaN</td>\n",
       "      <td>-24.2</td>\n",
       "      <td>1.038500e-11</td>\n",
       "      <td>NaN</td>\n",
       "      <td>-24.2</td>\n",
       "      <td>1.149700e-11</td>\n",
       "      <td>NaN</td>\n",
       "      <td>-24.2</td>\n",
       "      <td>1.258800e-11</td>\n",
       "    </tr>\n",
       "  </tbody>\n",
       "</table>\n",
       "</div>"
      ],
      "text/plain": [
       "   GDS Vd=10V [dark]  Vgate         ABSID  GDS Vd=10V [1.5w]  Vgate.1  \\\n",
       "0                NaN  -25.0  2.049800e-11                NaN    -25.0   \n",
       "1                NaN  -24.8  1.216900e-11                NaN    -24.8   \n",
       "2                NaN  -24.6  1.077200e-11                NaN    -24.6   \n",
       "3                NaN  -24.4  9.939000e-12                NaN    -24.4   \n",
       "4                NaN  -24.2  9.705000e-12                NaN    -24.2   \n",
       "\n",
       "        ABSID.1  GDS Vd=10V [2.5w]  Vgate.2       ABSID.2  GDS Vd=10V [4w]  \\\n",
       "0  2.063900e-11                NaN    -25.0  2.248300e-11              NaN   \n",
       "1  1.295900e-11                NaN    -24.8  1.429800e-11              NaN   \n",
       "2  1.155500e-11                NaN    -24.6  1.274500e-11              NaN   \n",
       "3  1.088300e-11                NaN    -24.4  1.216600e-11              NaN   \n",
       "4  1.038500e-11                NaN    -24.2  1.149700e-11              NaN   \n",
       "\n",
       "   Vgate.3       ABSID.3  \n",
       "0    -25.0  2.350100e-11  \n",
       "1    -24.8  1.522700e-11  \n",
       "2    -24.6  1.397500e-11  \n",
       "3    -24.4  1.328200e-11  \n",
       "4    -24.2  1.258800e-11  "
      ]
     },
     "execution_count": 3,
     "metadata": {},
     "output_type": "execute_result"
    }
   ],
   "source": [
    "dataset = pd.read_excel('dataset.xlsx', sheet_name='AUO')\n",
    "dataset.head()"
   ]
  },
  {
   "cell_type": "code",
   "execution_count": 4,
   "id": "nuclear-heater",
   "metadata": {},
   "outputs": [
    {
     "name": "stdout",
     "output_type": "stream",
     "text": [
      "Dataset size :  502 x 12\n",
      "Null Row :  503\n",
      "Null column :  13\n"
     ]
    }
   ],
   "source": [
    "row, column = dataset.shape\n",
    "print(\"Dataset size : \", row , \"x\" , column)\n",
    "print(\"Null Row : \", row + 1)\n",
    "print(\"Null column : \", column + 1)"
   ]
  },
  {
   "cell_type": "code",
   "execution_count": 5,
   "id": "laughing-blank",
   "metadata": {},
   "outputs": [
    {
     "name": "stdout",
     "output_type": "stream",
     "text": [
      "['GDS Vd=10V [dark]', 'GDS Vd=10V [1.5w]', 'GDS Vd=10V [2.5w]', 'GDS Vd=10V [4w]']\n",
      "[0, 3, 6, 9, 12]\n"
     ]
    }
   ],
   "source": [
    "colList = dataset.columns.tolist() # All columns\n",
    "nanCol = [] # Declare null columms\n",
    "nanIndex = []\n",
    "for i in range(len(colList)):\n",
    "    nan = ((dataset[colList[i]]).isnull() == True)[0] # nan is True or False\n",
    "    if(nan): # if nan == true (isnull)\n",
    "        nanCol.append(colList[i]) \n",
    "        nanIndex.append(i)\n",
    "        \n",
    "nanIndex.append(column)\n",
    "print(nanCol)  \n",
    "print(nanIndex)"
   ]
  },
  {
   "cell_type": "code",
   "execution_count": 6,
   "id": "referenced-collins",
   "metadata": {},
   "outputs": [],
   "source": [
    "# Divide into groups \n",
    "for i in range(len(nanCol)):\n",
    "    nanCol[i] = dataset.iloc[0:row, nanIndex[i]:nanIndex[i+1]]"
   ]
  },
  {
   "cell_type": "code",
   "execution_count": 7,
   "id": "integrated-participant",
   "metadata": {},
   "outputs": [
    {
     "data": {
      "text/html": [
       "<div>\n",
       "<style scoped>\n",
       "    .dataframe tbody tr th:only-of-type {\n",
       "        vertical-align: middle;\n",
       "    }\n",
       "\n",
       "    .dataframe tbody tr th {\n",
       "        vertical-align: top;\n",
       "    }\n",
       "\n",
       "    .dataframe thead th {\n",
       "        text-align: right;\n",
       "    }\n",
       "</style>\n",
       "<table border=\"1\" class=\"dataframe\">\n",
       "  <thead>\n",
       "    <tr style=\"text-align: right;\">\n",
       "      <th></th>\n",
       "      <th>GDS Vd=10V [dark]</th>\n",
       "      <th>Vgate</th>\n",
       "      <th>ABSID</th>\n",
       "    </tr>\n",
       "  </thead>\n",
       "  <tbody>\n",
       "    <tr>\n",
       "      <th>0</th>\n",
       "      <td>NaN</td>\n",
       "      <td>-25.0</td>\n",
       "      <td>2.049800e-11</td>\n",
       "    </tr>\n",
       "    <tr>\n",
       "      <th>1</th>\n",
       "      <td>NaN</td>\n",
       "      <td>-24.8</td>\n",
       "      <td>1.216900e-11</td>\n",
       "    </tr>\n",
       "    <tr>\n",
       "      <th>2</th>\n",
       "      <td>NaN</td>\n",
       "      <td>-24.6</td>\n",
       "      <td>1.077200e-11</td>\n",
       "    </tr>\n",
       "    <tr>\n",
       "      <th>3</th>\n",
       "      <td>NaN</td>\n",
       "      <td>-24.4</td>\n",
       "      <td>9.939000e-12</td>\n",
       "    </tr>\n",
       "    <tr>\n",
       "      <th>4</th>\n",
       "      <td>NaN</td>\n",
       "      <td>-24.2</td>\n",
       "      <td>9.705000e-12</td>\n",
       "    </tr>\n",
       "    <tr>\n",
       "      <th>...</th>\n",
       "      <td>...</td>\n",
       "      <td>...</td>\n",
       "      <td>...</td>\n",
       "    </tr>\n",
       "    <tr>\n",
       "      <th>497</th>\n",
       "      <td>NaN</td>\n",
       "      <td>-24.2</td>\n",
       "      <td>6.084000e-12</td>\n",
       "    </tr>\n",
       "    <tr>\n",
       "      <th>498</th>\n",
       "      <td>NaN</td>\n",
       "      <td>-24.4</td>\n",
       "      <td>6.089000e-12</td>\n",
       "    </tr>\n",
       "    <tr>\n",
       "      <th>499</th>\n",
       "      <td>NaN</td>\n",
       "      <td>-24.6</td>\n",
       "      <td>6.056000e-12</td>\n",
       "    </tr>\n",
       "    <tr>\n",
       "      <th>500</th>\n",
       "      <td>NaN</td>\n",
       "      <td>-24.8</td>\n",
       "      <td>6.273000e-12</td>\n",
       "    </tr>\n",
       "    <tr>\n",
       "      <th>501</th>\n",
       "      <td>NaN</td>\n",
       "      <td>-25.0</td>\n",
       "      <td>6.342000e-12</td>\n",
       "    </tr>\n",
       "  </tbody>\n",
       "</table>\n",
       "<p>502 rows × 3 columns</p>\n",
       "</div>"
      ],
      "text/plain": [
       "     GDS Vd=10V [dark]  Vgate         ABSID\n",
       "0                  NaN  -25.0  2.049800e-11\n",
       "1                  NaN  -24.8  1.216900e-11\n",
       "2                  NaN  -24.6  1.077200e-11\n",
       "3                  NaN  -24.4  9.939000e-12\n",
       "4                  NaN  -24.2  9.705000e-12\n",
       "..                 ...    ...           ...\n",
       "497                NaN  -24.2  6.084000e-12\n",
       "498                NaN  -24.4  6.089000e-12\n",
       "499                NaN  -24.6  6.056000e-12\n",
       "500                NaN  -24.8  6.273000e-12\n",
       "501                NaN  -25.0  6.342000e-12\n",
       "\n",
       "[502 rows x 3 columns]"
      ]
     },
     "execution_count": 7,
     "metadata": {},
     "output_type": "execute_result"
    }
   ],
   "source": [
    "len(nanCol)\n",
    "nn = nanCol[0].columns[1]\n",
    "nanCol[0]"
   ]
  },
  {
   "cell_type": "code",
   "execution_count": 93,
   "id": "automated-amendment",
   "metadata": {},
   "outputs": [
    {
     "name": "stdout",
     "output_type": "stream",
     "text": [
      "                  Cate Vgate           pos           neg\n",
      "0  [GDS Vd=10V [dark]]   -25  2.049800e-11  6.342000e-12\n",
      "1  [GDS Vd=10V [1.5w]]   -25  2.063900e-11  7.147000e-12\n",
      "2  [GDS Vd=10V [2.5w]]   -25  2.248300e-11  8.057000e-12\n",
      "3    [GDS Vd=10V [4w]]   -25  2.350100e-11  9.539000e-12\n"
     ]
    }
   ],
   "source": [
    "colName = nanCol[0].columns[1]\n",
    "\n",
    "value = -25 # search value\n",
    "newY = []\n",
    "\n",
    "if len( nanCol[0].query(\"`{0}` == @value\".format(colName)) ) > 0:\n",
    "    for i in range(len(nanCol)) : #幾組   \n",
    "        ABSIDName = nanCol[i].columns[2] # ABSID || ABSID.1 || ABSID.3 ...\n",
    "        dd = dataset.query(\"`{0}` == @value\".format(colName))\n",
    "        for j in range(len(dd)):\n",
    "            newY.append(dd[ABSIDName].to_numpy()[j]) \n",
    "else :\n",
    "    for i in range(len(nanCol)) : #幾組\n",
    "        VgateName = nanCol[i].columns[1] # Vgate || Vgate.1 || Vgate.2 ... \n",
    "        ABSIDName = nanCol[i].columns[2] # ABSID || ABSID.1 || ABSID.3 ...\n",
    "        vgateArr = nanCol[i][VgateName].to_numpy()\n",
    "        arr = dataset[nanCol[3].columns[1]].to_numpy()\n",
    "\n",
    "        above = vgateArr[np.searchsorted(arr,value,'left')-1]\n",
    "        below = vgateArr[np.searchsorted(arr,value,'right')]\n",
    "        print(above, below) \n",
    "        X = value\n",
    "        x1 = min(above, below)\n",
    "        x2 =  max(above, below)\n",
    "        dd = nanCol[i].query(\"`{0}` == @above or `{0}` == @below\".format(VgateName))\n",
    "        dd = dd.sort_index(ascending=True)\n",
    "\n",
    "        for j in range(2) :\n",
    "            y1 = dd.query(\"`{0}` == @x1\".format(VgateName))[ABSIDName].to_numpy()[j]\n",
    "            y2 = dd.query(\"`{0}` == @x2\".format(VgateName))[ABSIDName].to_numpy()[j]\n",
    "            Y = y1 + (X-x1)*(y2-y1)/(x2-x1)\n",
    "            newY.append(Y)\n",
    "\n",
    "            \n",
    "tmp = []\n",
    "for k in range(0, len(newY), 2) :\n",
    "    tmp.append((\"[\" + nanCol[int(k/2)].columns[0] + \"]\" , value, newY[k], newY[k+1]))\n",
    "\n",
    "tf = pd.DataFrame(columns=['Cate', 'Vgate', 'pos', 'neg'])\n",
    "for w in range(len(tmp)):\n",
    "    tf.loc[w] = tmp[w]\n",
    "print(tf)\n",
    "\n",
    "# Save to excel\n",
    "writer = pd.ExcelWriter('result.xlsx', engine='xlsxwriter')\n",
    "tf.to_excel(writer, sheet_name='Sheet1')\n",
    "writer.save()\n",
    "  "
   ]
  },
  {
   "cell_type": "code",
   "execution_count": null,
   "id": "derived-consent",
   "metadata": {},
   "outputs": [],
   "source": []
  },
  {
   "cell_type": "code",
   "execution_count": null,
   "id": "conceptual-reception",
   "metadata": {},
   "outputs": [],
   "source": []
  },
  {
   "cell_type": "code",
   "execution_count": null,
   "id": "ecological-touch",
   "metadata": {},
   "outputs": [],
   "source": []
  },
  {
   "cell_type": "code",
   "execution_count": null,
   "id": "precious-place",
   "metadata": {},
   "outputs": [],
   "source": []
  },
  {
   "cell_type": "code",
   "execution_count": 28,
   "id": "competitive-criterion",
   "metadata": {},
   "outputs": [
    {
     "data": {
      "text/plain": [
       "80    -9.0\n",
       "421   -9.0\n",
       "79    -9.2\n",
       "81    -8.8\n",
       "422   -9.2\n",
       "420   -8.8\n",
       "Name: Vgate, dtype: float64"
      ]
     },
     "execution_count": 28,
     "metadata": {},
     "output_type": "execute_result"
    }
   ],
   "source": [
    "# Show close value (include self)\n",
    "input = -9 # search value\n",
    "nums = 6 # how many?\n",
    "d2 = dataset.iloc[(dataset['Vgate']-input).abs().argsort()[:nums]]['Vgate'] # index , value\n",
    "d2"
   ]
  },
  {
   "cell_type": "code",
   "execution_count": 228,
   "id": "appreciated-capture",
   "metadata": {},
   "outputs": [
    {
     "name": "stdout",
     "output_type": "stream",
     "text": [
      "-9.2 -8.8\n",
      "(-9.2, -8.8)\n",
      "(1.45e-13, 2.76e-13)\n",
      "-9\n",
      "2.1049999999999999e-13\n"
     ]
    }
   ],
   "source": [
    "# not include self value\n",
    "\n",
    "arr = dataset['Vgate'].to_numpy()\n",
    "value = -9 # search value\n",
    "above = arr[np.searchsorted(arr,value,'left')-1]\n",
    "below = arr[np.searchsorted(arr,value,'right')]\n",
    "print(above, below) \n",
    "X = value\n",
    "x1 = min(above, below)\n",
    "x2 =  max(above, below)\n",
    "dd = dataset.query(\"Vgate == @above or Vgate == @below\")\n",
    "dd = dd.sort_index(ascending=True)\n",
    "\n",
    "y1 = dd.query(\"Vgate == @x1\")['ABSID'].to_numpy()[0]\n",
    "ABSID2_arr = dd.query(\"Vgate == @x2\")['ABSID'].to_numpy()\n",
    "y2 = ABSID2_arr[0]\n",
    "\n",
    "print((x1, x2))\n",
    "print((y1, y2))\n",
    "print(X)\n",
    "Y = y1 + (X-x1)*(y2-y1)/(x2-x1)\n",
    "print(Y)"
   ]
  },
  {
   "cell_type": "code",
   "execution_count": 56,
   "id": "sacred-shell",
   "metadata": {},
   "outputs": [
    {
     "name": "stdout",
     "output_type": "stream",
     "text": [
      "lens :  4\n"
     ]
    },
    {
     "data": {
      "text/html": [
       "<div>\n",
       "<style scoped>\n",
       "    .dataframe tbody tr th:only-of-type {\n",
       "        vertical-align: middle;\n",
       "    }\n",
       "\n",
       "    .dataframe tbody tr th {\n",
       "        vertical-align: top;\n",
       "    }\n",
       "\n",
       "    .dataframe thead th {\n",
       "        text-align: right;\n",
       "    }\n",
       "</style>\n",
       "<table border=\"1\" class=\"dataframe\">\n",
       "  <thead>\n",
       "    <tr style=\"text-align: right;\">\n",
       "      <th></th>\n",
       "      <th>GDS Vd=10V [dark]</th>\n",
       "      <th>Vgate</th>\n",
       "      <th>ABSID</th>\n",
       "      <th>GDS Vd=10V [1.5w]</th>\n",
       "      <th>Vgate.1</th>\n",
       "      <th>ABSID.1</th>\n",
       "      <th>GDS Vd=10V [2.5w]</th>\n",
       "      <th>Vgate.2</th>\n",
       "      <th>ABSID.2</th>\n",
       "      <th>GDS Vd=10V [4w]</th>\n",
       "      <th>Vgate.3</th>\n",
       "      <th>ABSID.3</th>\n",
       "    </tr>\n",
       "  </thead>\n",
       "  <tbody>\n",
       "    <tr>\n",
       "      <th>79</th>\n",
       "      <td>NaN</td>\n",
       "      <td>-9.2</td>\n",
       "      <td>1.450000e-13</td>\n",
       "      <td>NaN</td>\n",
       "      <td>-9.2</td>\n",
       "      <td>1.660000e-12</td>\n",
       "      <td>NaN</td>\n",
       "      <td>-9.2</td>\n",
       "      <td>2.446000e-12</td>\n",
       "      <td>NaN</td>\n",
       "      <td>-9.2</td>\n",
       "      <td>3.787000e-12</td>\n",
       "    </tr>\n",
       "    <tr>\n",
       "      <th>81</th>\n",
       "      <td>NaN</td>\n",
       "      <td>-8.8</td>\n",
       "      <td>2.760000e-13</td>\n",
       "      <td>NaN</td>\n",
       "      <td>-8.8</td>\n",
       "      <td>1.719000e-12</td>\n",
       "      <td>NaN</td>\n",
       "      <td>-8.8</td>\n",
       "      <td>2.628000e-12</td>\n",
       "      <td>NaN</td>\n",
       "      <td>-8.8</td>\n",
       "      <td>3.731000e-12</td>\n",
       "    </tr>\n",
       "  </tbody>\n",
       "</table>\n",
       "</div>"
      ],
      "text/plain": [
       "    GDS Vd=10V [dark]  Vgate         ABSID  GDS Vd=10V [1.5w]  Vgate.1  \\\n",
       "79                NaN   -9.2  1.450000e-13                NaN     -9.2   \n",
       "81                NaN   -8.8  2.760000e-13                NaN     -8.8   \n",
       "\n",
       "         ABSID.1  GDS Vd=10V [2.5w]  Vgate.2       ABSID.2  GDS Vd=10V [4w]  \\\n",
       "79  1.660000e-12                NaN     -9.2  2.446000e-12              NaN   \n",
       "81  1.719000e-12                NaN     -8.8  2.628000e-12              NaN   \n",
       "\n",
       "    Vgate.3       ABSID.3  \n",
       "79     -9.2  3.787000e-12  \n",
       "81     -8.8  3.731000e-12  "
      ]
     },
     "execution_count": 56,
     "metadata": {},
     "output_type": "execute_result"
    }
   ],
   "source": [
    "\n",
    "print(\"lens : \", len(dd))\n",
    "dd.iloc[:2]\n"
   ]
  },
  {
   "cell_type": "code",
   "execution_count": 60,
   "id": "piano-scene",
   "metadata": {},
   "outputs": [
    {
     "data": {
      "text/plain": [
       "2.76e-13"
      ]
     },
     "execution_count": 60,
     "metadata": {},
     "output_type": "execute_result"
    }
   ],
   "source": [
    "ABSID_arr = dd['ABSID'].to_numpy()\n",
    "y1 = ABSID_arr[0]\n",
    "y2 = ABSID_arr[1]"
   ]
  },
  {
   "cell_type": "code",
   "execution_count": null,
   "id": "collected-honey",
   "metadata": {},
   "outputs": [],
   "source": []
  }
 ],
 "metadata": {
  "kernelspec": {
   "display_name": "Python 3",
   "language": "python",
   "name": "python3"
  },
  "language_info": {
   "codemirror_mode": {
    "name": "ipython",
    "version": 3
   },
   "file_extension": ".py",
   "mimetype": "text/x-python",
   "name": "python",
   "nbconvert_exporter": "python",
   "pygments_lexer": "ipython3",
   "version": "3.6.12"
  }
 },
 "nbformat": 4,
 "nbformat_minor": 5
}
